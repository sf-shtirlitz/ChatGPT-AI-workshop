{
  "nbformat": 4,
  "nbformat_minor": 0,
  "metadata": {
    "colab": {
      "provenance": [],
      "include_colab_link": true
    },
    "kernelspec": {
      "name": "python3",
      "display_name": "Python 3"
    },
    "language_info": {
      "name": "python"
    }
  },
  "cells": [
    {
      "cell_type": "markdown",
      "metadata": {
        "id": "view-in-github",
        "colab_type": "text"
      },
      "source": [
        "<a href=\"https://colab.research.google.com/github/sf-shtirlitz/ChatGPT-AI-workshop/blob/main/api_openai_13_langchain_answer_question.ipynb\" target=\"_parent\"><img src=\"https://colab.research.google.com/assets/colab-badge.svg\" alt=\"Open In Colab\"/></a>"
      ]
    },
    {
      "cell_type": "code",
      "execution_count": 4,
      "metadata": {
        "id": "WO52ljc01tyQ",
        "colab": {
          "base_uri": "https://localhost:8080/"
        },
        "outputId": "f5893cd0-b19e-4d03-9931-46d0a03fcc7a"
      },
      "outputs": [
        {
          "output_type": "stream",
          "name": "stdout",
          "text": [
            "Requirement already satisfied: openAI in /usr/local/lib/python3.10/dist-packages (1.3.5)\n",
            "Requirement already satisfied: anyio<4,>=3.5.0 in /usr/local/lib/python3.10/dist-packages (from openAI) (3.7.1)\n",
            "Requirement already satisfied: distro<2,>=1.7.0 in /usr/lib/python3/dist-packages (from openAI) (1.7.0)\n",
            "Requirement already satisfied: httpx<1,>=0.23.0 in /usr/local/lib/python3.10/dist-packages (from openAI) (0.25.1)\n",
            "Requirement already satisfied: pydantic<3,>=1.9.0 in /usr/local/lib/python3.10/dist-packages (from openAI) (1.10.13)\n",
            "Requirement already satisfied: tqdm>4 in /usr/local/lib/python3.10/dist-packages (from openAI) (4.66.1)\n",
            "Requirement already satisfied: typing-extensions<5,>=4.5 in /usr/local/lib/python3.10/dist-packages (from openAI) (4.5.0)\n",
            "Requirement already satisfied: idna>=2.8 in /usr/local/lib/python3.10/dist-packages (from anyio<4,>=3.5.0->openAI) (3.4)\n",
            "Requirement already satisfied: sniffio>=1.1 in /usr/local/lib/python3.10/dist-packages (from anyio<4,>=3.5.0->openAI) (1.3.0)\n",
            "Requirement already satisfied: exceptiongroup in /usr/local/lib/python3.10/dist-packages (from anyio<4,>=3.5.0->openAI) (1.1.3)\n",
            "Requirement already satisfied: certifi in /usr/local/lib/python3.10/dist-packages (from httpx<1,>=0.23.0->openAI) (2023.7.22)\n",
            "Requirement already satisfied: httpcore in /usr/local/lib/python3.10/dist-packages (from httpx<1,>=0.23.0->openAI) (1.0.2)\n",
            "Requirement already satisfied: h11<0.15,>=0.13 in /usr/local/lib/python3.10/dist-packages (from httpcore->httpx<1,>=0.23.0->openAI) (0.14.0)\n",
            "Requirement already satisfied: langchain in /usr/local/lib/python3.10/dist-packages (0.0.339)\n",
            "Requirement already satisfied: PyYAML>=5.3 in /usr/local/lib/python3.10/dist-packages (from langchain) (6.0.1)\n",
            "Requirement already satisfied: SQLAlchemy<3,>=1.4 in /usr/local/lib/python3.10/dist-packages (from langchain) (2.0.23)\n",
            "Requirement already satisfied: aiohttp<4.0.0,>=3.8.3 in /usr/local/lib/python3.10/dist-packages (from langchain) (3.8.6)\n",
            "Requirement already satisfied: anyio<4.0 in /usr/local/lib/python3.10/dist-packages (from langchain) (3.7.1)\n",
            "Requirement already satisfied: async-timeout<5.0.0,>=4.0.0 in /usr/local/lib/python3.10/dist-packages (from langchain) (4.0.3)\n",
            "Requirement already satisfied: dataclasses-json<0.7,>=0.5.7 in /usr/local/lib/python3.10/dist-packages (from langchain) (0.6.2)\n",
            "Requirement already satisfied: jsonpatch<2.0,>=1.33 in /usr/local/lib/python3.10/dist-packages (from langchain) (1.33)\n",
            "Requirement already satisfied: langsmith<0.1.0,>=0.0.63 in /usr/local/lib/python3.10/dist-packages (from langchain) (0.0.66)\n",
            "Requirement already satisfied: numpy<2,>=1 in /usr/local/lib/python3.10/dist-packages (from langchain) (1.23.5)\n",
            "Requirement already satisfied: pydantic<3,>=1 in /usr/local/lib/python3.10/dist-packages (from langchain) (1.10.13)\n",
            "Requirement already satisfied: requests<3,>=2 in /usr/local/lib/python3.10/dist-packages (from langchain) (2.31.0)\n",
            "Requirement already satisfied: tenacity<9.0.0,>=8.1.0 in /usr/local/lib/python3.10/dist-packages (from langchain) (8.2.3)\n",
            "Requirement already satisfied: attrs>=17.3.0 in /usr/local/lib/python3.10/dist-packages (from aiohttp<4.0.0,>=3.8.3->langchain) (23.1.0)\n",
            "Requirement already satisfied: charset-normalizer<4.0,>=2.0 in /usr/local/lib/python3.10/dist-packages (from aiohttp<4.0.0,>=3.8.3->langchain) (3.3.2)\n",
            "Requirement already satisfied: multidict<7.0,>=4.5 in /usr/local/lib/python3.10/dist-packages (from aiohttp<4.0.0,>=3.8.3->langchain) (6.0.4)\n",
            "Requirement already satisfied: yarl<2.0,>=1.0 in /usr/local/lib/python3.10/dist-packages (from aiohttp<4.0.0,>=3.8.3->langchain) (1.9.2)\n",
            "Requirement already satisfied: frozenlist>=1.1.1 in /usr/local/lib/python3.10/dist-packages (from aiohttp<4.0.0,>=3.8.3->langchain) (1.4.0)\n",
            "Requirement already satisfied: aiosignal>=1.1.2 in /usr/local/lib/python3.10/dist-packages (from aiohttp<4.0.0,>=3.8.3->langchain) (1.3.1)\n",
            "Requirement already satisfied: idna>=2.8 in /usr/local/lib/python3.10/dist-packages (from anyio<4.0->langchain) (3.4)\n",
            "Requirement already satisfied: sniffio>=1.1 in /usr/local/lib/python3.10/dist-packages (from anyio<4.0->langchain) (1.3.0)\n",
            "Requirement already satisfied: exceptiongroup in /usr/local/lib/python3.10/dist-packages (from anyio<4.0->langchain) (1.1.3)\n",
            "Requirement already satisfied: marshmallow<4.0.0,>=3.18.0 in /usr/local/lib/python3.10/dist-packages (from dataclasses-json<0.7,>=0.5.7->langchain) (3.20.1)\n",
            "Requirement already satisfied: typing-inspect<1,>=0.4.0 in /usr/local/lib/python3.10/dist-packages (from dataclasses-json<0.7,>=0.5.7->langchain) (0.9.0)\n",
            "Requirement already satisfied: jsonpointer>=1.9 in /usr/local/lib/python3.10/dist-packages (from jsonpatch<2.0,>=1.33->langchain) (2.4)\n",
            "Requirement already satisfied: typing-extensions>=4.2.0 in /usr/local/lib/python3.10/dist-packages (from pydantic<3,>=1->langchain) (4.5.0)\n",
            "Requirement already satisfied: urllib3<3,>=1.21.1 in /usr/local/lib/python3.10/dist-packages (from requests<3,>=2->langchain) (2.0.7)\n",
            "Requirement already satisfied: certifi>=2017.4.17 in /usr/local/lib/python3.10/dist-packages (from requests<3,>=2->langchain) (2023.7.22)\n",
            "Requirement already satisfied: greenlet!=0.4.17 in /usr/local/lib/python3.10/dist-packages (from SQLAlchemy<3,>=1.4->langchain) (3.0.1)\n",
            "Requirement already satisfied: packaging>=17.0 in /usr/local/lib/python3.10/dist-packages (from marshmallow<4.0.0,>=3.18.0->dataclasses-json<0.7,>=0.5.7->langchain) (23.2)\n",
            "Requirement already satisfied: mypy-extensions>=0.3.0 in /usr/local/lib/python3.10/dist-packages (from typing-inspect<1,>=0.4.0->dataclasses-json<0.7,>=0.5.7->langchain) (1.0.0)\n",
            "Requirement already satisfied: tiktoken in /usr/local/lib/python3.10/dist-packages (0.5.1)\n",
            "Requirement already satisfied: regex>=2022.1.18 in /usr/local/lib/python3.10/dist-packages (from tiktoken) (2023.6.3)\n",
            "Requirement already satisfied: requests>=2.26.0 in /usr/local/lib/python3.10/dist-packages (from tiktoken) (2.31.0)\n",
            "Requirement already satisfied: charset-normalizer<4,>=2 in /usr/local/lib/python3.10/dist-packages (from requests>=2.26.0->tiktoken) (3.3.2)\n",
            "Requirement already satisfied: idna<4,>=2.5 in /usr/local/lib/python3.10/dist-packages (from requests>=2.26.0->tiktoken) (3.4)\n",
            "Requirement already satisfied: urllib3<3,>=1.21.1 in /usr/local/lib/python3.10/dist-packages (from requests>=2.26.0->tiktoken) (2.0.7)\n",
            "Requirement already satisfied: certifi>=2017.4.17 in /usr/local/lib/python3.10/dist-packages (from requests>=2.26.0->tiktoken) (2023.7.22)\n",
            "Requirement already satisfied: faiss-cpu in /usr/local/lib/python3.10/dist-packages (1.7.4)\n"
          ]
        }
      ],
      "source": [
        "%pip install --upgrade openAI\n",
        "%pip install langchain\n",
        "%pip install tiktoken\n",
        "\n",
        "%pip install faiss-cpu #Facebook AI Similarity Search"
      ]
    },
    {
      "cell_type": "code",
      "source": [
        "%env OPENAI_API_KEY=zzz"
      ],
      "metadata": {
        "id": "jcn0o-Y62xgI",
        "colab": {
          "base_uri": "https://localhost:8080/"
        },
        "outputId": "49ade468-a224-4f21-9ef0-9f8189902606"
      },
      "execution_count": 12,
      "outputs": [
        {
          "output_type": "stream",
          "name": "stdout",
          "text": [
            "env: OPENAI_API_KEY=zzz\n"
          ]
        }
      ]
    },
    {
      "cell_type": "code",
      "source": [
        "from google.colab import files\n",
        "uploaded = files.upload()"
      ],
      "metadata": {
        "id": "YccwUL_B6A4Y",
        "colab": {
          "base_uri": "https://localhost:8080/",
          "height": 73
        },
        "outputId": "c113c401-54bc-4d05-ea5a-642d64f9c64c"
      },
      "execution_count": 6,
      "outputs": [
        {
          "output_type": "display_data",
          "data": {
            "text/plain": [
              "<IPython.core.display.HTML object>"
            ],
            "text/html": [
              "\n",
              "     <input type=\"file\" id=\"files-7e59affc-e5bc-430e-bb22-50796c30f6fd\" name=\"files[]\" multiple disabled\n",
              "        style=\"border:none\" />\n",
              "     <output id=\"result-7e59affc-e5bc-430e-bb22-50796c30f6fd\">\n",
              "      Upload widget is only available when the cell has been executed in the\n",
              "      current browser session. Please rerun this cell to enable.\n",
              "      </output>\n",
              "      <script>// Copyright 2017 Google LLC\n",
              "//\n",
              "// Licensed under the Apache License, Version 2.0 (the \"License\");\n",
              "// you may not use this file except in compliance with the License.\n",
              "// You may obtain a copy of the License at\n",
              "//\n",
              "//      http://www.apache.org/licenses/LICENSE-2.0\n",
              "//\n",
              "// Unless required by applicable law or agreed to in writing, software\n",
              "// distributed under the License is distributed on an \"AS IS\" BASIS,\n",
              "// WITHOUT WARRANTIES OR CONDITIONS OF ANY KIND, either express or implied.\n",
              "// See the License for the specific language governing permissions and\n",
              "// limitations under the License.\n",
              "\n",
              "/**\n",
              " * @fileoverview Helpers for google.colab Python module.\n",
              " */\n",
              "(function(scope) {\n",
              "function span(text, styleAttributes = {}) {\n",
              "  const element = document.createElement('span');\n",
              "  element.textContent = text;\n",
              "  for (const key of Object.keys(styleAttributes)) {\n",
              "    element.style[key] = styleAttributes[key];\n",
              "  }\n",
              "  return element;\n",
              "}\n",
              "\n",
              "// Max number of bytes which will be uploaded at a time.\n",
              "const MAX_PAYLOAD_SIZE = 100 * 1024;\n",
              "\n",
              "function _uploadFiles(inputId, outputId) {\n",
              "  const steps = uploadFilesStep(inputId, outputId);\n",
              "  const outputElement = document.getElementById(outputId);\n",
              "  // Cache steps on the outputElement to make it available for the next call\n",
              "  // to uploadFilesContinue from Python.\n",
              "  outputElement.steps = steps;\n",
              "\n",
              "  return _uploadFilesContinue(outputId);\n",
              "}\n",
              "\n",
              "// This is roughly an async generator (not supported in the browser yet),\n",
              "// where there are multiple asynchronous steps and the Python side is going\n",
              "// to poll for completion of each step.\n",
              "// This uses a Promise to block the python side on completion of each step,\n",
              "// then passes the result of the previous step as the input to the next step.\n",
              "function _uploadFilesContinue(outputId) {\n",
              "  const outputElement = document.getElementById(outputId);\n",
              "  const steps = outputElement.steps;\n",
              "\n",
              "  const next = steps.next(outputElement.lastPromiseValue);\n",
              "  return Promise.resolve(next.value.promise).then((value) => {\n",
              "    // Cache the last promise value to make it available to the next\n",
              "    // step of the generator.\n",
              "    outputElement.lastPromiseValue = value;\n",
              "    return next.value.response;\n",
              "  });\n",
              "}\n",
              "\n",
              "/**\n",
              " * Generator function which is called between each async step of the upload\n",
              " * process.\n",
              " * @param {string} inputId Element ID of the input file picker element.\n",
              " * @param {string} outputId Element ID of the output display.\n",
              " * @return {!Iterable<!Object>} Iterable of next steps.\n",
              " */\n",
              "function* uploadFilesStep(inputId, outputId) {\n",
              "  const inputElement = document.getElementById(inputId);\n",
              "  inputElement.disabled = false;\n",
              "\n",
              "  const outputElement = document.getElementById(outputId);\n",
              "  outputElement.innerHTML = '';\n",
              "\n",
              "  const pickedPromise = new Promise((resolve) => {\n",
              "    inputElement.addEventListener('change', (e) => {\n",
              "      resolve(e.target.files);\n",
              "    });\n",
              "  });\n",
              "\n",
              "  const cancel = document.createElement('button');\n",
              "  inputElement.parentElement.appendChild(cancel);\n",
              "  cancel.textContent = 'Cancel upload';\n",
              "  const cancelPromise = new Promise((resolve) => {\n",
              "    cancel.onclick = () => {\n",
              "      resolve(null);\n",
              "    };\n",
              "  });\n",
              "\n",
              "  // Wait for the user to pick the files.\n",
              "  const files = yield {\n",
              "    promise: Promise.race([pickedPromise, cancelPromise]),\n",
              "    response: {\n",
              "      action: 'starting',\n",
              "    }\n",
              "  };\n",
              "\n",
              "  cancel.remove();\n",
              "\n",
              "  // Disable the input element since further picks are not allowed.\n",
              "  inputElement.disabled = true;\n",
              "\n",
              "  if (!files) {\n",
              "    return {\n",
              "      response: {\n",
              "        action: 'complete',\n",
              "      }\n",
              "    };\n",
              "  }\n",
              "\n",
              "  for (const file of files) {\n",
              "    const li = document.createElement('li');\n",
              "    li.append(span(file.name, {fontWeight: 'bold'}));\n",
              "    li.append(span(\n",
              "        `(${file.type || 'n/a'}) - ${file.size} bytes, ` +\n",
              "        `last modified: ${\n",
              "            file.lastModifiedDate ? file.lastModifiedDate.toLocaleDateString() :\n",
              "                                    'n/a'} - `));\n",
              "    const percent = span('0% done');\n",
              "    li.appendChild(percent);\n",
              "\n",
              "    outputElement.appendChild(li);\n",
              "\n",
              "    const fileDataPromise = new Promise((resolve) => {\n",
              "      const reader = new FileReader();\n",
              "      reader.onload = (e) => {\n",
              "        resolve(e.target.result);\n",
              "      };\n",
              "      reader.readAsArrayBuffer(file);\n",
              "    });\n",
              "    // Wait for the data to be ready.\n",
              "    let fileData = yield {\n",
              "      promise: fileDataPromise,\n",
              "      response: {\n",
              "        action: 'continue',\n",
              "      }\n",
              "    };\n",
              "\n",
              "    // Use a chunked sending to avoid message size limits. See b/62115660.\n",
              "    let position = 0;\n",
              "    do {\n",
              "      const length = Math.min(fileData.byteLength - position, MAX_PAYLOAD_SIZE);\n",
              "      const chunk = new Uint8Array(fileData, position, length);\n",
              "      position += length;\n",
              "\n",
              "      const base64 = btoa(String.fromCharCode.apply(null, chunk));\n",
              "      yield {\n",
              "        response: {\n",
              "          action: 'append',\n",
              "          file: file.name,\n",
              "          data: base64,\n",
              "        },\n",
              "      };\n",
              "\n",
              "      let percentDone = fileData.byteLength === 0 ?\n",
              "          100 :\n",
              "          Math.round((position / fileData.byteLength) * 100);\n",
              "      percent.textContent = `${percentDone}% done`;\n",
              "\n",
              "    } while (position < fileData.byteLength);\n",
              "  }\n",
              "\n",
              "  // All done.\n",
              "  yield {\n",
              "    response: {\n",
              "      action: 'complete',\n",
              "    }\n",
              "  };\n",
              "}\n",
              "\n",
              "scope.google = scope.google || {};\n",
              "scope.google.colab = scope.google.colab || {};\n",
              "scope.google.colab._files = {\n",
              "  _uploadFiles,\n",
              "  _uploadFilesContinue,\n",
              "};\n",
              "})(self);\n",
              "</script> "
            ]
          },
          "metadata": {}
        },
        {
          "output_type": "stream",
          "name": "stdout",
          "text": [
            "Saving devops-article.md to devops-article.md\n"
          ]
        }
      ]
    },
    {
      "cell_type": "code",
      "source": [
        "from langchain.text_splitter import RecursiveCharacterTextSplitter\n",
        "\n",
        "with open('devops-article.md', 'r') as file:\n",
        "    text = file.read()\n",
        "\n",
        "#chunk_size - max number of characters in a chunk\n",
        "#chunk_overlap - number of characters overlapping between two adjacent chunks\n",
        "text_splitter = RecursiveCharacterTextSplitter(separators=[\"\\n\\n\", \"\\n\"], chunk_size=5000, chunk_overlap=350)\n",
        "\n",
        "docs = text_splitter.create_documents([text])\n",
        "\n",
        "print (f\"{len(docs)} docs \")\n"
      ],
      "metadata": {
        "id": "fAmXToYO6MZc",
        "colab": {
          "base_uri": "https://localhost:8080/"
        },
        "outputId": "7f093773-a31d-4b5c-91fa-69c2f3b08acf"
      },
      "execution_count": 7,
      "outputs": [
        {
          "output_type": "stream",
          "name": "stdout",
          "text": [
            "5 docs \n"
          ]
        }
      ]
    },
    {
      "cell_type": "code",
      "source": [
        "from langchain.embeddings import OpenAIEmbeddings\n",
        "from langchain.vectorstores import FAISS\n",
        "\n",
        "#FAISS.from_documents - Return VectorStore initialized from documents and embeddings.\n",
        "vector_store = FAISS.from_documents(docs, OpenAIEmbeddings())\n",
        "\n",
        "question = \"What are DevOps Transformation Best Practices?\"\n",
        "\n",
        "#similar_docs = vector_store.similarity_search(question, k=2)\n",
        "\n",
        "similar_docs_with_score = vector_store.similarity_search_with_score(question, k=2)\n",
        "\n",
        "print(similar_docs_with_score)\n",
        "\n"
      ],
      "metadata": {
        "id": "__H9ZZ676WNB",
        "colab": {
          "base_uri": "https://localhost:8080/"
        },
        "outputId": "69db0d2f-fc96-429a-c1fd-d5faab34a06e"
      },
      "execution_count": 8,
      "outputs": [
        {
          "output_type": "stream",
          "name": "stdout",
          "text": [
            "[(Document(page_content=\"### Role of Docker and Kubernetes in DevOps\\n\\nWhat is the role of Docker and Kubernetes in DevOps?\\n\\n\\nIn the microservices world, a few microservices might be built with Java, a few with Python and a few with JavaScript.\\n\\nDifferent microservices will have different ways of building applications and deploying them to servers.\\n\\nThis makes operations team's job difficult.\\n\\nHow can we have similar way of deploying multiple types of applications? Enter Containers and Docker.\\n\\nUsing Docker you can build images of microservices - irrespective of their language - Java, Python or JavaScript. You can run these images the same way on any infrastructure.\\n\\nThis simplifies operations.\\n\\nKubernetes adds on to this by helping to orchestrate different types of containers and deploying them to clusters.\\n\\n\\nKubernetes also provides\\n- Service Discovery\\n- Load Balancing\\n- Centralized Configuration\\n\\nDocker and Kubernetes make DevOps easy.\\n\\n\\n\\n### Important DevOps Metrics\\n\\nFollowing are some of the important DevOps metrics you can track and improve over a period of time.\\n- Deployment Frequency - How often are applications deployed to production?\\n- Time To Market - How long do you need to take a feature from coding to production?\\n- Failure Rate of New Releases - How many of your releases fail?\\n- Lead Time to Fixes - How long do you need to make a production fix and release it to production?\\n- Mean Time to Recovery  - How long do you take to recover your production environment from a major issue?\\n\\n### DevOps Best Practices\\n\\nFollowing are some of the best practices with DevOps\\n- Standardization \\n- Teams with Cross Function Skills \\n- Focus on Culture \\n- Automate, Automate and ..  \\n- Immutable Infrastructure \\n- Dev Prod Parity \\n- Version Control Everything \\n- Self Provisioning \\n\\n### DevOps Maturity Signals\\n\\nHow do you measure the maturity of your DevOps Implementations. Here are some of the important questions to ask.\\n\\n#### Development\\n- Does every commit trigger automated tests and automated code quality checks?\\n- Is your code continuously delivered to production?\\n- Do you use pair programming?\\n- Do you use TDD and BDD? \\n- Do you have a lot of re-usable modules?\\n- Can development teams self provision environments?\\n- How long does it take to deliver a quick fix to production?\\n\\n#### Test\\n- Are your tests full automated with high quality production like test data?\\n- Does your builds fail when your automated tests fail?\\n- Are your testing cycles small?\\n- Do you have automated NFR tests?\\n\\n#### Deployment\\n- Do you have Dev Prod Parity?\\n- Do you use A/B Testing?\\n- Do you use canary deployments?\\n- Can you deploy at the click of a button?\\n- Can you rollback at the click of a button?\\n- Can you provision and release infrastructure at the click of a button?\\n- Do you use IAC and version control your infrastructure?\\n\\n#### Monitoring\\n- Does the team use a centralized monitoring system?\\n- Can development team get access to logs at the click of a button?\\n- Does the team get an automated alert if something goes wrong in production?\\n\\n#### Teams and Processes\\n- Is the team looking to continuously improve?\\n- Does the team have all the skills it needs from Business, Development and Operations?\\n- Does the team track the key devops metrics and improve on them?\\n- Do you have the culture of take Local Discoveries and using them to make Global Improvements?\\n\\n### DevOps Transformation Best Practices\\n- Leadership Buy-in is Critical \\n- Involves Upfront Costs\\n- Setup COEs to help teams\\n- Choose the right application and team\\n- Start Small \\n- Sharing Learnings (Newsletters, Communication, COEs) \\n- Encourage People with Exploration and Automation Mindset \\n- Recognize DevOps Teams\"), 0.2915459), (Document(page_content=\"> How can we make this possible?\\n\\n> Break down the wall between Dev and Ops! \\n\\n#### Getting Dev and Ops Together - Option 1\\n\\nIn matured Dev Ops enterprises, Dev and Ops work as part of the same scrum team and share each other responsibilities. \\n\\n#### Getting Dev and Ops Together - Option 2\\n\\nHowever, if you are in the early stages of devops evolution, how can you get Dev and Ops have common objectives and work together?\\n\\nHere are some of the things you can do:\\n- One of the things you can start with is to have the development team share some of the responsibilities of the operation team. For example, the dev team can take the responsibility of new release for the first week after production deployment. This helps the development team understand the challenges faced by operations in taking new releases live and help them come together and find better solutions.\\n- Other thing you can do is to involve a representative of the operations team in the Scrum activities. Involve them in Stand ups and Retrospectives of the team.\\n- The next thing you can do is to make the challenges faced by Operations team more visible to the Development team. When you face any challenges in operations, make development teams part of the teams working on solutions.\\n\\nWhich way you take, find ways of breaking the wall and get the Development and Operations team together.\\n\\nAnother interesting option emerges because of automation. By using Infrastructure as Code and enabling Self Provisioning for Developers, You can create common language that operations and development teams understand - code. More about this in the next couple of steps.\\n\\n### A DevOps Use Case\\n\\nConsider the picture below:\\n\\n\\nThis picture show cases two simple workflows\\n- No 1 : Infrastructure as Code using Terraform and Azure DevOps to provision Kubernetes Clusters\\n- No 2 : Continuous Deployment of Microservices using Azure DevOps to build and deploy Docker images for microservices into Kubernetes Clusters\\n\\nDoes this sound complex?\\n\\nLet's break it down and try and understand them.\\n\\nLet's start with No 2 - Continuous Deployment first.\\n\\n#### No 2 : DevOps Continuous Deployment with Azure DevOps and Jenkins\\n\\nWhat is the use of having great tests and code quality checks if you don't run them often?\\n\\nWhat is the use of deployment automation if you don't deploy software often enough?\\n\\nAs soon as a developer commits code into the version control system, the following steps are executed:\\n- Unit Tests \\n- Code Quality Checks \\n- Integration Tests \\n- Application Packaging - Building a deployable version of application. Tools - Maven, Gradle, Docker\\n- Application Deployment - Putting new applications or new versions of application live.\\n- An email to the testing team to test the application.\\n\\nAs soon as there is an approval from the test team, the app is immediately deployed to the  Next Environment.\\n\\nThis is called Continuous Deployment. If you continuously deploy upto production, it is called Continuous Delivery.\\n\\nThe most popular CI CD Tools are Azure DevOps and Jenkins\\n\\n#### No 1 : DevOps Infrastructure as Code with Terraform\\n\\nIn older days, we used to create environments and deploy applications manually.\\n\\n\\nEverytime you create a server, this needs to be done manually. \\n- What if Java version needs to be updated? \\n- A security patch needs to be applied?\\n\\nYou do it manually.\\n\\nWhat is the result of this?\\n- High Chance of Errors.\\n- Replication environments is difficult.\\n\\n\\n#### Infrastructure as Code\\n\\nInfrastructure as Code - Treat Infrastructure the same way as application code\\n\\nHere are some of the important things to understand with Infrastructure as Code\\n- Infra team focuses on value added work (instead of routine work)\\n- Less Errors and Quick Recovery from Failures\\n- Servers are Consistent (Avoids Configuration Drift)\\n\\n\\nThe most popular IaC tools are Ansible and Terraform.\\n\\nTypically these are the steps in IaC\\n- Provision Servers(Enabled by Cloud) from a Template\\n- Install Software \\n- Configure Software\\n\\n##### Server Provisioning\\n\\nTypically Provisioning Tools are used to provision servers and get new server ready with networking capabilities. The most popular provisioning tools are CloudFormation and Terraform. \\n\\nUsing Terraform, you can provision servers and rest of your infrastructure, like load balancers, databases, networking configuration, etc. You can create servers using pre created images created using tools like Packer and AMI (Amazon Machine Image).\\n\\n##### Configuration Management\\n\\nConfiguration Management tools are used to \\n- Install Software \\n- Configure Software\\n\\nPopular Configuration management tools are Chef, Puppet, Ansible, and SaltStack. These are designed to install and manage software on existing servers.\\n\\n### Role of Docker and Kubernetes in DevOps\\n\\nWhat is the role of Docker and Kubernetes in DevOps?\\n\\n\\nIn the microservices world, a few microservices might be built with Java, a few with Python and a few with JavaScript.\"), 0.30257207)]\n"
          ]
        }
      ]
    },
    {
      "cell_type": "code",
      "source": [
        "from langchain.llms import OpenAI\n",
        "from langchain.chains.question_answering import load_qa_chain\n",
        "\n",
        "llm = OpenAI()\n",
        "\n",
        "question = 'What are DevOps Transformation Best Practices?'\n",
        "#question = 'DevOps Maturity Signals related to Development '\n",
        "#question = 'What are some of the most important DevOps metrics?'\n",
        "\n",
        "similar_docs = vector_store.similarity_search(question, k=2)\n",
        "\n",
        "chain = load_qa_chain(llm, chain_type='stuff')\n",
        "\n",
        "print(chain.run(input_documents=similar_docs, question=question).strip())\n"
      ],
      "metadata": {
        "id": "kl1TCLAZ6fSI",
        "colab": {
          "base_uri": "https://localhost:8080/"
        },
        "outputId": "d461ffaa-c9ad-49e8-da1c-643bd30f8732"
      },
      "execution_count": 11,
      "outputs": [
        {
          "output_type": "stream",
          "name": "stdout",
          "text": [
            "DevOps Transformation Best Practices include Leadership Buy-in, Involves Upfront Costs, Setup COEs to help teams, Choose the right application and team, Start Small, Sharing Learnings (Newsletters, Communication, COEs), Encourage People with Exploration and Automation Mindset, Recognize DevOps Teams, and Break Down the Wall between Dev and Ops.\n"
          ]
        }
      ]
    }
  ]
}